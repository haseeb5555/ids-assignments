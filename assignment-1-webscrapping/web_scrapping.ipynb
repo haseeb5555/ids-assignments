{
  "nbformat": 4,
  "nbformat_minor": 0,
  "metadata": {
    "colab": {
      "provenance": []
    },
    "kernelspec": {
      "name": "python3",
      "display_name": "Python 3"
    },
    "language_info": {
      "name": "python"
    }
  },
  "cells": [
    {
      "cell_type": "code",
      "execution_count": 4,
      "metadata": {
        "colab": {
          "base_uri": "https://localhost:8080/"
        },
        "id": "4r7rzjIYaLmW",
        "outputId": "bb64336f-6671-4fef-fd8a-89da5d94f23a"
      },
      "outputs": [
        {
          "output_type": "stream",
          "name": "stdout",
          "text": [
            "<Response [200]>\n",
            "250\n",
            "Data has been written to the CSV file: sp21-bse-027.csv\n"
          ]
        }
      ],
      "source": [
        "# 12-3-2024\n",
        "# CSC461 – Assignment1 – IDS – Web Scraping\n",
        "# Muhammad Haseeb\n",
        "# SP21-BSE-027\n",
        "# Instructor - DR. Muhammad Sharjeel\n",
        "\n",
        "from bs4 import BeautifulSoup\n",
        "import requests\n",
        "import csv\n",
        "\n",
        "url = 'https://www.imdb.com/chart/top/'\n",
        "\n",
        "headers = {'User-Agent': 'Mozilla/5.0 (Windows NT 10.0; Win64; x64) AppleWebKit/537.36 (KHTML, like Gecko) Chrome/114.0.0.0 Safari/537.36'}\n",
        "\n",
        "response = requests.get(url, headers=headers)\n",
        "print(response)\n",
        "\n",
        "\n",
        "soup = BeautifulSoup(response.content, 'html.parser')\n",
        "\n",
        "\n",
        "movies = soup.find_all('li', class_='ipc-metadata-list-summary-item sc-10233bc-0 iherUv cli-parent')\n",
        "\n",
        "print(len(movies))\n",
        "\n",
        "csv_filename = \"sp21-bse-027.csv\"\n",
        "\n",
        "\n",
        "with open(csv_filename, mode='w', newline='', encoding='utf-8-sig') as file:\n",
        "    writer = csv.writer(file)\n",
        "\n",
        "    # Write the header row\n",
        "    header = [ 'Name', 'Year', 'Duration' 'Rating']\n",
        "    writer.writerow(header)\n",
        "\n",
        "    for movie in movies:\n",
        "        name = movie.find('h3', class_='ipc-title__text').text\n",
        "        year = movie.find('div', class_='sc-b0691f29-7 hrgukm cli-title-metadata').span.text\n",
        "        # Find all span elements within the div\n",
        "        span_elements = movie.find_all('span', class_='sc-b0691f29-8 ilsLEX cli-title-metadata-item')\n",
        "        # Extract the second span element\n",
        "        duration = span_elements[1].text\n",
        "        rating = movie.find('div', class_='sc-e2dbc1a3-0 ajrIH sc-b0691f29-2 bhhtyj cli-ratings-container').span.text\n",
        "        # Write the data row for the current movie directly to the CSV file\n",
        "        writer.writerow([ name, year,duration, rating])\n",
        "\n",
        "print(\"Data has been written to the CSV file:\", csv_filename)\n"
      ]
    },
    {
      "cell_type": "code",
      "source": [
        "import requests\n",
        "from bs4 import BeautifulSoup\n",
        "import pandas as pd\n",
        "\n",
        "url = \"https://space-facts.com/mars/\"\n",
        "response = requests.get(url)\n",
        "html_content = response.content\n",
        "soup = BeautifulSoup(html_content, \"html.parser\")\n",
        "table = soup.find(\"table\", class_=\"tablepress tablepress-id-p-mars\")\n",
        "\n",
        "mars_data = []\n",
        "for row in table.find_all(\"tr\"):\n",
        "    columns = row.find_all(\"td\")\n",
        "    if len(columns) == 2:\n",
        "        name = columns[0].text.strip()\n",
        "        value = columns[1].text.strip()\n",
        "        mars_data.append([name, value])\n",
        "\n",
        "df = pd.DataFrame(mars_data, columns=[\"Attribute\", \"Value\"])\n",
        "\n",
        "excel_filename = \"sp21-bse-027.xlsx\"\n",
        "df.to_excel(excel_filename, index=False)\n",
        "\n",
        "print(\"Data saved to\", excel_filename)"
      ],
      "metadata": {
        "colab": {
          "base_uri": "https://localhost:8080/"
        },
        "id": "Lq1JajKRhhUI",
        "outputId": "884267d3-54d2-48ef-ea9e-0e19cf9dc67c"
      },
      "execution_count": 5,
      "outputs": [
        {
          "output_type": "stream",
          "name": "stdout",
          "text": [
            "Data saved to sp21-bse-027.xlsx\n"
          ]
        }
      ]
    }
  ]
}